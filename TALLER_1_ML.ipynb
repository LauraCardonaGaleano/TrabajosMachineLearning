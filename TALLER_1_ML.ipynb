{
  "nbformat": 4,
  "nbformat_minor": 0,
  "metadata": {
    "colab": {
      "provenance": []
    },
    "kernelspec": {
      "name": "python3",
      "display_name": "Python 3"
    },
    "language_info": {
      "name": "python"
    }
  },
  "cells": [
    {
      "cell_type": "code",
      "execution_count": null,
      "metadata": {
        "id": "fwB7vHVupum-"
      },
      "outputs": [],
      "source": []
    },
    {
      "cell_type": "code",
      "source": [
        "\n",
        "def suma_division(a:int, b:int, c:int):\n",
        "  if type(a)==int and type(b)==int and type(c)==int:\n",
        "    suma = a + b\n",
        "    if c==0:\n",
        "      print (f\"El numero {c} debe ser difernte de cero\")\n",
        "    else:\n",
        "      division = suma / c\n",
        "      print (division)\n",
        "  else:\n",
        "     print (f\"Los datos ingresados deben ser enteros\")\n",
        "\n",
        "\n",
        "\n",
        "\n",
        "suma_division (5,10,15)"
      ],
      "metadata": {
        "id": "NFNfxf7zp8Ez"
      },
      "execution_count": null,
      "outputs": []
    },
    {
      "cell_type": "markdown",
      "source": [
        "#MachineLearning\n",
        "#Taller1"
      ],
      "metadata": {
        "id": "Jgt29Kw3qfFG"
      }
    }
  ]
}